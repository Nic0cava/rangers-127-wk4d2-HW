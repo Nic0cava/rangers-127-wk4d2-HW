{
 "cells": [
  {
   "cell_type": "markdown",
   "metadata": {},
   "source": [
    "# Algorithms and Time Complexity"
   ]
  },
  {
   "cell_type": "markdown",
   "metadata": {},
   "source": [
    "## Tasks Today:\n",
    " \n",
    "1) <b>In-Place Algorithms</b> <br>\n",
    " &nbsp;&nbsp;&nbsp;&nbsp; a) Syntax <br>\n",
    " &nbsp;&nbsp;&nbsp;&nbsp; a) Out of Place Algorithm <br>\n",
    " &nbsp;&nbsp;&nbsp;&nbsp; b) In-Class Exercise #1 <br>\n",
    "2) <b>Two Pointers</b> <br>\n",
    "3) <b>Merge Sort</b> <br>\n",
    " &nbsp;&nbsp;&nbsp;&nbsp; a) Video on Algorithms <br>\n",
    " &nbsp;&nbsp;&nbsp;&nbsp; b) How it Works <br>\n",
    "4) <b>Binary Search</b> <br>\n",
    "5) <b>Exercises</b> <br>\n",
    " &nbsp;&nbsp;&nbsp;&nbsp; a) Exercise #1 - Reverse a List in Place Using an In-Place Algorithm <br>\n",
    " &nbsp;&nbsp;&nbsp;&nbsp; b) Exercise #2 - Find Distinct Words <br>\n",
    " &nbsp;&nbsp;&nbsp;&nbsp; c) Exercise #3 - Write a program to implement a Linear Search Algorithm. <br>"
   ]
  },
  {
   "cell_type": "markdown",
   "metadata": {},
   "source": [
    "## In-Place Algorithms"
   ]
  },
  {
   "cell_type": "markdown",
   "metadata": {},
   "source": [
    "#### Syntax"
   ]
  },
  {
   "cell_type": "code",
   "execution_count": 2,
   "metadata": {},
   "outputs": [
    {
     "name": "stdout",
     "output_type": "stream",
     "text": [
      "Before swap [20, 4, 10]\n",
      "After swap [10, 4, 20]\n"
     ]
    }
   ],
   "source": [
    "#swap locations by index in a list\n",
    "#sometimes known as a swap algorithm\n",
    "# arr[i], arr[i+1] = arr[i+1], arr[i]\n",
    "\n",
    "def swap(alist, x, y, z):\n",
    "\n",
    "    alist[x], alist[y], alist[z] = alist[z], alist[y], alist[x]\n",
    "    return alist\n",
    "\n",
    "my_list = [20, 4, 10]\n",
    "print(\"Before swap\", my_list)\n",
    "print(\"After swap\", swap(my_list, 0, 1, 2))\n",
    "\n",
    "#we are not allocating a new list to memory, we are just editing our previous list(less memory = less space = more speed)"
   ]
  },
  {
   "cell_type": "markdown",
   "metadata": {},
   "source": [
    "#### Out of Place Algorithm"
   ]
  },
  {
   "cell_type": "code",
   "execution_count": 7,
   "metadata": {},
   "outputs": [
    {
     "name": "stdout",
     "output_type": "stream",
     "text": [
      "[20, 20, 20]\n",
      "Before:  [20, 4, 10]\n",
      "After:  [10, 4, 20]\n"
     ]
    }
   ],
   "source": [
    "# not swapping, reversing the list\n",
    "# But also copies to another place in memory\n",
    "\n",
    "my_list = [20, 4, 10]\n",
    "\n",
    "def out_place(alist):\n",
    "\n",
    "    new_array = [alist[0]] * len(alist) #[20, 20, 20]\n",
    "    print(new_array)\n",
    "\n",
    "    print(\"Before: \", alist)\n",
    "\n",
    "    length = len(alist) - 1\n",
    "    for i in range(length):\n",
    "        new_array[i] = alist[length - i]\n",
    "\n",
    "    alist = new_array\n",
    "    print(\"After: \", alist)\n",
    "\n",
    "out_place(my_list)\n"
   ]
  },
  {
   "cell_type": "markdown",
   "metadata": {},
   "source": [
    "#### In-Class Exercise #1 <br>\n",
    "<p>Write a function that takes in four arguments (list, index1, index2, index3), and swaps those three positions in the list passed in.</p>"
   ]
  },
  {
   "cell_type": "code",
   "execution_count": 19,
   "metadata": {},
   "outputs": [
    {
     "name": "stdout",
     "output_type": "stream",
     "text": [
      "Before swap [20, 4, 10, 8]\n",
      "After swap [8, 10, 4, 20]\n",
      "Did order happen ['chicken', 'egg']\n",
      "Or did order happen ['egg', 'chicken']\n"
     ]
    }
   ],
   "source": [
    "def swap(alist, x, y, z, i):\n",
    "\n",
    "    alist[x], alist[y], alist[z], alist[i] = alist[i], alist[z], alist[y], alist[x]\n",
    "    return alist\n",
    "\n",
    "my_list = [20, 4, 10, 8]\n",
    "print(\"Before swap\", my_list)\n",
    "print(\"After swap\", swap(my_list, 0, 1, 2, 3))\n",
    "\n",
    "def swap(alist, x, y):\n",
    "\n",
    "    alist[x], alist[y] = alist[y], alist[x]\n",
    "    return alist\n",
    "\n",
    "list = [\"chicken\", \"egg\"]\n",
    "print(\"Did order happen\", list)\n",
    "print(\"Or did order happen\", swap(list, 0, 1))\n"
   ]
  },
  {
   "cell_type": "markdown",
   "metadata": {},
   "source": [
    "## Two Pointers"
   ]
  },
  {
   "cell_type": "markdown",
   "metadata": {},
   "source": [
    "#### Syntax"
   ]
  },
  {
   "cell_type": "code",
   "execution_count": 23,
   "metadata": {},
   "outputs": [
    {
     "data": {
      "text/plain": [
       "[22, 11, 4, 8, 9, 12, 3, 2, 1]"
      ]
     },
     "execution_count": 23,
     "metadata": {},
     "output_type": "execute_result"
    }
   ],
   "source": [
    "# alist[left], alist[right] = alist[right], alist[left]\n",
    "# use two pointesr to swap, can use a while loop in most cases\n",
    "# the list must be sorted\n",
    "\n",
    "my_list = [1, 2, 3, 12, 9, 8, 4, 11, 22]\n",
    "def two_pointer(alist):\n",
    "\n",
    "    #creat our pointers\n",
    "    left = 0 #this is our first index\n",
    "    right = len(alist) - 1 #this is last index\n",
    "\n",
    "    while left <= right:\n",
    "        alist[left], alist[right] = alist[right], alist[left]\n",
    "        left += 1\n",
    "        right -= 1\n",
    "\n",
    "    return alist\n",
    "\n",
    "two_pointer(my_list)\n",
    "    \n"
   ]
  },
  {
   "cell_type": "markdown",
   "metadata": {},
   "source": [
    "#### Video of Algorithms <br>\n",
    "<p>Watch the video about algorithms.</p>\n",
    "\n",
    "https://www.youtube.com/watch?v=Q9HjeFD62Uk\n",
    "\n",
    "https://www.youtube.com/watch?v=kPRA0W1kECg\n",
    "\n",
    "https://www.youtube.com/watch?v=ZZuD6iUe3Pc"
   ]
  },
  {
   "cell_type": "markdown",
   "metadata": {},
   "source": [
    "# Sorting Algorithms"
   ]
  },
  {
   "cell_type": "code",
   "execution_count": null,
   "metadata": {},
   "outputs": [],
   "source": [
    "# Time complexity\n",
    "# how many actions have to happen per itms it akes as inputs\n",
    "\n"
   ]
  },
  {
   "cell_type": "markdown",
   "metadata": {},
   "source": [
    "#### Bubble Sort\n",
    "\n",
    "Worst Case: O(n^2) Time - O(1) Space"
   ]
  },
  {
   "cell_type": "code",
   "execution_count": 24,
   "metadata": {},
   "outputs": [
    {
     "data": {
      "text/plain": [
       "[1, 22, 34, 44, 55, 66, 88, 100]"
      ]
     },
     "execution_count": 24,
     "metadata": {},
     "output_type": "execute_result"
    }
   ],
   "source": [
    "# Best Case Linear\n",
    "# Worst Case Quadratic\n",
    "\n",
    "my_array = [100, 88, 22, 55, 44, 1, 34, 66]\n",
    "\n",
    "def swap(i, j, alist):\n",
    "\n",
    "    alist[i], alist[j] = alist[j], alist[i]\n",
    "\n",
    "def bubble_sort(array):\n",
    "\n",
    "    isSorted = False #this is our sorting  flag\n",
    "\n",
    "    while not isSorted: #while this is set to False\n",
    "        isSorted = True\n",
    "\n",
    "        for index in range(len(array)-1): # -1 because we are comparing value to the value directly after it\n",
    "            if array[index] > array[index +1]:\n",
    "                swap(index, index + 1, array)\n",
    "                isSorted = False\n",
    "\n",
    "    return array\n",
    "\n",
    "bubble_sort(my_array)"
   ]
  },
  {
   "cell_type": "code",
   "execution_count": 26,
   "metadata": {},
   "outputs": [
    {
     "data": {
      "text/plain": [
       "[1, 22, 34, 44, 55, 66, 88, 100]"
      ]
     },
     "execution_count": 26,
     "metadata": {},
     "output_type": "execute_result"
    }
   ],
   "source": [
    "my_array = [100, 88, 22, 55, 44, 1, 34, 66]\n",
    "\n",
    "def swap(i, j, alist):\n",
    "\n",
    "    alist[i], alist[j] = alist[j], alist[i]\n",
    "\n",
    "def bubble_sort(array):\n",
    "\n",
    "    isSorted = False #this is our sorting  flag\n",
    "    length = len(array)\n",
    "    while not isSorted: #while this is set to False\n",
    "        isSorted = True\n",
    "        length -= 1\n",
    "        for index in range(len(array)-1): # -1 because we are comparing value to the value directly after it\n",
    "            if array[index] > array[index +1]:\n",
    "                swap(index, index + 1, array)\n",
    "                isSorted = False\n",
    "\n",
    "    return array\n",
    "\n",
    "bubble_sort(my_array)"
   ]
  },
  {
   "cell_type": "markdown",
   "metadata": {},
   "source": [
    "##### Insertion Sort\n",
    "\n",
    "Worst Case: O(n^2) time - O(1)space"
   ]
  },
  {
   "cell_type": "code",
   "execution_count": 37,
   "metadata": {},
   "outputs": [
    {
     "data": {
      "text/plain": [
       "[1, 22, 34, 44, 55, 66, 88, 100]"
      ]
     },
     "execution_count": 37,
     "metadata": {},
     "output_type": "execute_result"
    }
   ],
   "source": [
    "my_array = [100, 88, 22, 55, 44, 1, 34, 66]\n",
    "\n",
    "def swap(i, j, alist):\n",
    "\n",
    "    alist[i], alist[j] = alist[j], alist[i]\n",
    "\n",
    "def insertion_sort(array):\n",
    "\n",
    "    for i in range(1, len(array)):\n",
    "        j = i\n",
    "        while j > 0 and array[j] < array[j - 1]:\n",
    "            swap(j, j - 1, array)\n",
    "            j -= 1\n",
    "\n",
    "    return array\n",
    "\n",
    "\n",
    "insertion_sort(my_array)\n",
    "    \n",
    "\n",
    "            "
   ]
  },
  {
   "cell_type": "markdown",
   "metadata": {},
   "source": [
    "## Merge Sort"
   ]
  },
  {
   "cell_type": "markdown",
   "metadata": {},
   "source": [
    "#### How it Works"
   ]
  },
  {
   "cell_type": "code",
   "execution_count": 40,
   "metadata": {},
   "outputs": [
    {
     "name": "stdout",
     "output_type": "stream",
     "text": [
      "Splitting [100, 88, 22, 55, 44, 1, 34, 66]\n",
      "Splitting [100, 88, 22, 55]\n",
      "Splitting [100, 88]\n",
      "Splitting [100]\n",
      "Merging:  [100]\n",
      "Splitting [88]\n",
      "Merging:  [88]\n",
      "Merging:  [88, 100]\n",
      "Splitting [22, 55]\n",
      "Splitting [22]\n",
      "Merging:  [22]\n",
      "Splitting [55]\n",
      "Merging:  [55]\n",
      "Merging:  [22, 55]\n",
      "Merging:  [22, 55, 88, 100]\n",
      "Splitting [44, 1, 34, 66]\n",
      "Splitting [44, 1]\n",
      "Splitting [44]\n",
      "Merging:  [44]\n",
      "Splitting [1]\n",
      "Merging:  [1]\n",
      "Merging:  [1, 44]\n",
      "Splitting [34, 66]\n",
      "Splitting [34]\n",
      "Merging:  [34]\n",
      "Splitting [66]\n",
      "Merging:  [66]\n",
      "Merging:  [34, 66]\n",
      "Merging:  [1, 34, 44, 66]\n",
      "Merging:  [1, 22, 34, 44, 55, 66, 88, 100]\n",
      "Splitting [1, 22, 34, 44, 55, 66, 88, 100]\n",
      "Splitting [1, 22, 34, 44]\n",
      "Splitting [1, 22]\n",
      "Splitting [1]\n",
      "Merging:  [1]\n",
      "Splitting [22]\n",
      "Merging:  [22]\n",
      "Merging:  [1, 22]\n",
      "Splitting [34, 44]\n",
      "Splitting [34]\n",
      "Merging:  [34]\n",
      "Splitting [44]\n",
      "Merging:  [44]\n",
      "Merging:  [34, 44]\n",
      "Merging:  [1, 22, 34, 44]\n",
      "Splitting [55, 66, 88, 100]\n",
      "Splitting [55, 66]\n",
      "Splitting [55]\n",
      "Merging:  [55]\n",
      "Splitting [66]\n",
      "Merging:  [66]\n",
      "Merging:  [55, 66]\n",
      "Splitting [88, 100]\n",
      "Splitting [88]\n",
      "Merging:  [88]\n",
      "Splitting [100]\n",
      "Merging:  [100]\n",
      "Merging:  [88, 100]\n",
      "Merging:  [55, 66, 88, 100]\n",
      "Merging:  [1, 22, 34, 44, 55, 66, 88, 100]\n"
     ]
    },
    {
     "data": {
      "text/plain": [
       "[1, 22, 34, 44, 55, 66, 88, 100]"
      ]
     },
     "execution_count": 40,
     "metadata": {},
     "output_type": "execute_result"
    }
   ],
   "source": [
    "# Step 1: Split Everything into its own group\n",
    "# Step 2: From left to right merge two groups together\n",
    "# STep 3: While merging, place each item in its correct position within the merged group\n",
    "# Step 4: Repeat step 3 until one group is left\n",
    "#sorted() and .sort() uses TimSort which is a combo of Merge Sort and Insertion Sort\n",
    "\n",
    "my_array = [100, 88, 22, 55, 44, 1, 34, 66]\n",
    "\n",
    "def merge_sort(array):\n",
    "    print(\"Splitting\", array)\n",
    "    \n",
    "    \n",
    "    #step 1: divide the array into equal parts (as much as we can)\n",
    "    if len(array) > 1:\n",
    "        mid = len(array) // 2\n",
    "        lefthalf = array[:mid]\n",
    "        righthalf = array[mid:]\n",
    "        \n",
    "        \n",
    "        #recursively call upon our merge_sort() function to keep splitting until we reach length of 1\n",
    "        #once we reach that base case (aka length of 1) then we merge our arrays together\n",
    "        merge_sort(lefthalf)\n",
    "        merge_sort(righthalf)\n",
    "        \n",
    "    \n",
    "        #create our pointers to keep track of our location in the 3 lists \n",
    "        l = 0 #location within our lefthalf list\n",
    "        r = 0 #location within our righthalf list\n",
    "        m = 0 #location within our main list (aka the one we are trying to sort currently)\n",
    "        \n",
    "        \n",
    "        #step 2: compare lefthalf at pointer location with righthalf at pointer location\n",
    "        while l < len(lefthalf) and r < len(righthalf):\n",
    "            if lefthalf[l] < righthalf[r]: #value in left array is smaller\n",
    "                array[m] = lefthalf[l] #put smaller value in main array\n",
    "                l += 1 #move up left pointer\n",
    "            else:\n",
    "                array[m] = righthalf[r]\n",
    "                r += 1\n",
    "                \n",
    "            m += 1 #move up our main pointer \n",
    "            \n",
    "        #step 3: whatever list has contents left over, no need to compare just put them in the main list in their order\n",
    "        while l < len(lefthalf):\n",
    "            array[m] = lefthalf[l]\n",
    "            l += 1\n",
    "            m += 1\n",
    "            \n",
    "        while r < len(righthalf):\n",
    "            array[m] = righthalf[r]\n",
    "            r += 1\n",
    "            m += 1\n",
    "            \n",
    "    print(\"Merging: \", array)\n",
    "    return array\n",
    "\n",
    "\n",
    "merge_sort(my_array)\n",
    "\n",
    "merge_sort(my_array)\n"
   ]
  },
  {
   "cell_type": "markdown",
   "metadata": {},
   "source": [
    "# Binary Search\n",
    "\n",
    "The Binary Search algorithm works by finding the number in the middle of a given array and comparing it to the target. Given that the array is sorted\n",
    "\n",
    "* The worst case run time for this algorithm is `O(log(n))`"
   ]
  },
  {
   "cell_type": "code",
   "execution_count": 44,
   "metadata": {},
   "outputs": [
    {
     "data": {
      "text/plain": [
       "'Target was found at index 1'"
      ]
     },
     "execution_count": 44,
     "metadata": {},
     "output_type": "execute_result"
    }
   ],
   "source": [
    "# Less goes to the left\n",
    "# Greater goes to the right\n",
    "# List of numbers must be sorted\n",
    "\n",
    "my_array = [1, 22, 34, 44, 55, 66, 88, 100]\n",
    "target = 22\n",
    "\n",
    "def binary_search(array, target):\n",
    "\n",
    "    left = 0 #start of our list\n",
    "    right = len(array) - 1 #end of our list\n",
    "\n",
    "    while left <= right:\n",
    "        middle = (left + right) // 2\n",
    "        potential_match = array[middle] #potential match rn is 44\n",
    "        if potential_match == target:\n",
    "            return f\"Target was found at index {middle}\"\n",
    "        elif potential_match > target:\n",
    "            right = middle -1\n",
    "        else:\n",
    "            left = middle + 1\n",
    "\n",
    "    return -1\n",
    "\n",
    "binary_search(my_array, target)\n",
    "            \n",
    "\n",
    "    "
   ]
  },
  {
   "cell_type": "markdown",
   "metadata": {},
   "source": [
    "# Exercises"
   ]
  },
  {
   "cell_type": "markdown",
   "metadata": {},
   "source": [
    "### Exercise #1 <br>\n",
    "<p>Reverse the list below in-place using an in-place algorithm.<br>For extra credit: Reverse the strings at the same time.</p>"
   ]
  },
  {
   "cell_type": "code",
   "execution_count": 69,
   "metadata": {},
   "outputs": [
    {
     "name": "stdout",
     "output_type": "stream",
     "text": [
      "Before swap ['this', 'is', 'a', 'sentence', '.']\n",
      "After swap ['.', 'sentence', 'a', 'is', 'this']\n",
      "After swap and reverse strings ['.', 'ecnetnes', 'a', 'si', 'siht']\n"
     ]
    }
   ],
   "source": [
    "words = ['this' , 'is', 'a', 'sentence', '.']\n",
    "reversed_words = []\n",
    "for word in words:\n",
    "    reversed_word = word[::-1]\n",
    "    reversed_words.append(reversed_word)\n",
    "\n",
    "def swap(alist, a, b, c, d, e):\n",
    "\n",
    "\n",
    "    alist[a], alist[b], alist[c], alist[d], alist[e] = alist[e], alist[d], alist[c], alist[b], alist[a]\n",
    "    return alist\n",
    "\n",
    "print(\"Before swap\", words)\n",
    "print(\"After swap\", swap(words, 0, 1, 2, 3, 4))\n",
    "print(\"After swap and reverse strings\", swap(reversed_words, 0, 1, 2, 3, 4))\n"
   ]
  },
  {
   "cell_type": "markdown",
   "metadata": {},
   "source": [
    "### Exercise #2 <br>\n",
    "<p>Create a function that counts how many distinct words are in the string below, then outputs a dictionary with the words as the key and the value as the amount of times that word appears in the string.<br>Should output:<br>{'a': 5,<br>\n",
    " 'abstract': 1,<br>\n",
    " 'an': 3,<br>\n",
    " 'array': 2, ... etc...</p>"
   ]
  },
  {
   "cell_type": "code",
   "execution_count": 131,
   "metadata": {},
   "outputs": [
    {
     "name": "stdout",
     "output_type": "stream",
     "text": [
      "{'in': 1, 'computing,': 1, 'a': 5, 'hash': 4, 'table': 2, 'map': 2, 'is': 1, 'data': 2, 'structure': 2, 'which': 2, 'implements': 1, 'an': 3, 'associative': 1, 'array': 2, 'abstract': 1, 'type,': 1, 'that': 1, 'can': 2, 'keys': 1, 'to': 2, 'values.': 1, 'uses': 1, 'function': 1, 'compute': 1, 'index': 1, 'into': 1, 'of': 1, 'buckets': 1, 'or': 1, 'slots': 1, 'from': 1, 'the': 1, 'desired': 1, 'value': 1, 'be': 1, 'found': 1}\n"
     ]
    }
   ],
   "source": [
    "a_text = 'In computing, a hash table hash map is a data structure which implements an associative array abstract data type, a structure that can map keys to values. A hash table uses a hash function to compute an index into an array of buckets or slots from which the desired value can be found'\n",
    "\n",
    "d = {}\n",
    "\n",
    "for line in a_text:\n",
    "\n",
    "    a_text = a_text.lower()\n",
    "    line = \"\".join(a_text)\n",
    "\n",
    "    words = line.split(\" \")\n",
    "\n",
    "    \n",
    "for word in words:\n",
    "    if word in d:\n",
    "        d[word] = d[word] + 1\n",
    "    else:\n",
    "        d[word] = 1\n",
    "\n",
    "print(d)\n"
   ]
  },
  {
   "cell_type": "markdown",
   "metadata": {},
   "source": [
    "## Exercise #3\n",
    "\n",
    "<p>Use binary search to return the index of the target num</p>\n",
    "\n"
   ]
  },
  {
   "cell_type": "code",
   "execution_count": 132,
   "metadata": {},
   "outputs": [
    {
     "data": {
      "text/plain": [
       "'Target was found at index 7'"
      ]
     },
     "execution_count": 132,
     "metadata": {},
     "output_type": "execute_result"
    }
   ],
   "source": [
    "cool_list = [2, 5, 6, 12, 45, 47, 98, 123, 1000]\n",
    "target = 123\n",
    "\n",
    "def binary_search(array, target):\n",
    "\n",
    "    left = 0 #start of our list\n",
    "    right = len(array) - 1 #end of our list\n",
    "\n",
    "    while left <= right:\n",
    "        middle = (left + right) // 2\n",
    "        potential_match = array[middle] #potential match rn is 44\n",
    "        if potential_match == target:\n",
    "            return f\"Target was found at index {middle}\"\n",
    "        elif potential_match > target:\n",
    "            right = middle -1\n",
    "        else:\n",
    "            left = middle + 1\n",
    "\n",
    "    return -1\n",
    "\n",
    "binary_search(cool_list, target)"
   ]
  },
  {
   "cell_type": "code",
   "execution_count": null,
   "metadata": {},
   "outputs": [],
   "source": [
    "\n"
   ]
  }
 ],
 "metadata": {
  "kernelspec": {
   "display_name": "Python 3 (ipykernel)",
   "language": "python",
   "name": "python3"
  },
  "language_info": {
   "codemirror_mode": {
    "name": "ipython",
    "version": 3
   },
   "file_extension": ".py",
   "mimetype": "text/x-python",
   "name": "python",
   "nbconvert_exporter": "python",
   "pygments_lexer": "ipython3",
   "version": "3.11.4"
  }
 },
 "nbformat": 4,
 "nbformat_minor": 4
}
